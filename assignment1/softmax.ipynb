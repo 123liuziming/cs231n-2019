{
 "cells": [
  {
   "cell_type": "markdown",
   "metadata": {
    "tags": [
     "pdf-title"
    ]
   },
   "source": [
    "# Softmax exercise\n",
    "\n",
    "*Complete and hand in this completed worksheet (including its outputs and any supporting code outside of the worksheet) with your assignment submission. For more details see the [assignments page](http://vision.stanford.edu/teaching/cs231n/assignments.html) on the course website.*\n",
    "\n",
    "This exercise is analogous to the SVM exercise. You will:\n",
    "\n",
    "- implement a fully-vectorized **loss function** for the Softmax classifier\n",
    "- implement the fully-vectorized expression for its **analytic gradient**\n",
    "- **check your implementation** with numerical gradient\n",
    "- use a validation set to **tune the learning rate and regularization** strength\n",
    "- **optimize** the loss function with **SGD**\n",
    "- **visualize** the final learned weights\n"
   ]
  },
  {
   "cell_type": "code",
   "execution_count": 2,
   "metadata": {
    "tags": [
     "pdf-ignore"
    ]
   },
   "outputs": [],
   "source": [
    "import random\n",
    "import numpy as np\n",
    "from cs231n.data_utils import load_CIFAR10\n",
    "import matplotlib.pyplot as plt\n",
    "\n",
    "%matplotlib inline\n",
    "plt.rcParams['figure.figsize'] = (10.0, 8.0) # set default size of plots\n",
    "plt.rcParams['image.interpolation'] = 'nearest'\n",
    "plt.rcParams['image.cmap'] = 'gray'\n",
    "\n",
    "# for auto-reloading extenrnal modules\n",
    "# see http://stackoverflow.com/questions/1907993/autoreload-of-modules-in-ipython\n",
    "%load_ext autoreload\n",
    "%autoreload 2"
   ]
  },
  {
   "cell_type": "code",
   "execution_count": 3,
   "metadata": {
    "tags": [
     "pdf-ignore"
    ]
   },
   "outputs": [
    {
     "name": "stdout",
     "output_type": "stream",
     "text": [
      "Train data shape:  (49000, 3073)\n",
      "Train labels shape:  (49000,)\n",
      "Validation data shape:  (1000, 3073)\n",
      "Validation labels shape:  (1000,)\n",
      "Test data shape:  (1000, 3073)\n",
      "Test labels shape:  (1000,)\n",
      "dev data shape:  (500, 3073)\n",
      "dev labels shape:  (500,)\n"
     ]
    }
   ],
   "source": [
    "def get_CIFAR10_data(num_training=49000, num_validation=1000, num_test=1000, num_dev=500):\n",
    "    \"\"\"\n",
    "    Load the CIFAR-10 dataset from disk and perform preprocessing to prepare\n",
    "    it for the linear classifier. These are the same steps as we used for the\n",
    "    SVM, but condensed to a single function.  \n",
    "    \"\"\"\n",
    "    # Load the raw CIFAR-10 data\n",
    "    cifar10_dir = 'cs231n/datasets/cifar-10-batches-py'\n",
    "    \n",
    "    # Cleaning up variables to prevent loading data multiple times (which may cause memory issue)\n",
    "    try:\n",
    "       del X_train, y_train\n",
    "       del X_test, y_test\n",
    "       print('Clear previously loaded data.')\n",
    "    except:\n",
    "       pass\n",
    "\n",
    "    X_train, y_train, X_test, y_test = load_CIFAR10(cifar10_dir)\n",
    "    \n",
    "    # subsample the data\n",
    "    mask = list(range(num_training, num_training + num_validation))\n",
    "    X_val = X_train[mask]\n",
    "    y_val = y_train[mask]\n",
    "    mask = list(range(num_training))\n",
    "    X_train = X_train[mask]\n",
    "    y_train = y_train[mask]\n",
    "    mask = list(range(num_test))\n",
    "    X_test = X_test[mask]\n",
    "    y_test = y_test[mask]\n",
    "    mask = np.random.choice(num_training, num_dev, replace=False)\n",
    "    X_dev = X_train[mask]\n",
    "    y_dev = y_train[mask]\n",
    "    \n",
    "    # Preprocessing: reshape the image data into rows\n",
    "    X_train = np.reshape(X_train, (X_train.shape[0], -1))\n",
    "    X_val = np.reshape(X_val, (X_val.shape[0], -1))\n",
    "    X_test = np.reshape(X_test, (X_test.shape[0], -1))\n",
    "    X_dev = np.reshape(X_dev, (X_dev.shape[0], -1))\n",
    "    \n",
    "    # Normalize the data: subtract the mean image\n",
    "    mean_image = np.mean(X_train, axis = 0)\n",
    "    X_train -= mean_image\n",
    "    X_val -= mean_image\n",
    "    X_test -= mean_image\n",
    "    X_dev -= mean_image\n",
    "    \n",
    "    # add bias dimension and transform into columns\n",
    "    X_train = np.hstack([X_train, np.ones((X_train.shape[0], 1))])\n",
    "    X_val = np.hstack([X_val, np.ones((X_val.shape[0], 1))])\n",
    "    X_test = np.hstack([X_test, np.ones((X_test.shape[0], 1))])\n",
    "    X_dev = np.hstack([X_dev, np.ones((X_dev.shape[0], 1))])\n",
    "    \n",
    "    return X_train, y_train, X_val, y_val, X_test, y_test, X_dev, y_dev\n",
    "\n",
    "\n",
    "# Invoke the above function to get our data.\n",
    "X_train, y_train, X_val, y_val, X_test, y_test, X_dev, y_dev = get_CIFAR10_data()\n",
    "print('Train data shape: ', X_train.shape)\n",
    "print('Train labels shape: ', y_train.shape)\n",
    "print('Validation data shape: ', X_val.shape)\n",
    "print('Validation labels shape: ', y_val.shape)\n",
    "print('Test data shape: ', X_test.shape)\n",
    "print('Test labels shape: ', y_test.shape)\n",
    "print('dev data shape: ', X_dev.shape)\n",
    "print('dev labels shape: ', y_dev.shape)"
   ]
  },
  {
   "cell_type": "markdown",
   "metadata": {},
   "source": [
    "## Softmax Classifier\n",
    "\n",
    "Your code for this section will all be written inside **cs231n/classifiers/softmax.py**. \n"
   ]
  },
  {
   "cell_type": "code",
   "execution_count": 4,
   "metadata": {},
   "outputs": [
    {
     "name": "stdout",
     "output_type": "stream",
     "text": [
      "loss: 2.394573\n",
      "sanity check: 2.302585\n"
     ]
    }
   ],
   "source": [
    "# First implement the naive softmax loss function with nested loops.\n",
    "# Open the file cs231n/classifiers/softmax.py and implement the\n",
    "# softmax_loss_naive function.\n",
    "\n",
    "from cs231n.classifiers.softmax import softmax_loss_naive\n",
    "import time\n",
    "\n",
    "# Generate a random softmax weight matrix and use it to compute the loss.\n",
    "W = np.random.randn(3073, 10) * 0.0001\n",
    "loss, grad = softmax_loss_naive(W, X_dev, y_dev, 0.0)\n",
    "\n",
    "# As a rough sanity check, our loss should be something close to -log(0.1).\n",
    "print('loss: %f' % loss)\n",
    "print('sanity check: %f' % (-np.log(0.1)))"
   ]
  },
  {
   "cell_type": "markdown",
   "metadata": {
    "tags": [
     "pdf-inline"
    ]
   },
   "source": [
    "**Inline Question 1**\n",
    "\n",
    "Why do we expect our loss to be close to -log(0.1)? Explain briefly.**\n",
    "\n",
    "$\\color{blue}{\\textit Your Answer:}$ 因为w随机初始化，所以每个类计算的得分是相同的，经过softmax之后的概率是一样的，而这是一个十分类的问题，因此每一个类的概率都是0.1，求得交叉熵也就是$-log(0.1)$ \n",
    "\n"
   ]
  },
  {
   "cell_type": "code",
   "execution_count": 5,
   "metadata": {},
   "outputs": [
    {
     "name": "stdout",
     "output_type": "stream",
     "text": [
      "numerical: 0.398156 analytic: 0.398156, relative error: 2.766019e-08\n",
      "numerical: -0.406860 analytic: -0.406860, relative error: 5.772068e-08\n",
      "numerical: -2.976254 analytic: -2.976254, relative error: 2.443242e-08\n",
      "numerical: 0.076252 analytic: 0.076252, relative error: 1.937437e-07\n",
      "numerical: 5.164897 analytic: 5.164897, relative error: 1.739015e-09\n",
      "numerical: -0.088979 analytic: -0.088979, relative error: 5.582645e-07\n",
      "numerical: 0.820062 analytic: 0.820061, relative error: 5.415680e-08\n",
      "numerical: 5.382353 analytic: 5.382353, relative error: 9.932984e-09\n",
      "numerical: 0.945993 analytic: 0.945993, relative error: 1.222285e-07\n",
      "numerical: 2.550930 analytic: 2.550930, relative error: 1.045105e-08\n",
      "numerical: -2.593640 analytic: -2.593640, relative error: 3.156041e-09\n",
      "numerical: 1.031001 analytic: 1.031001, relative error: 1.851300e-08\n",
      "numerical: -2.920998 analytic: -2.920998, relative error: 1.624682e-08\n",
      "numerical: 0.930023 analytic: 0.930023, relative error: 9.727166e-08\n",
      "numerical: -0.032758 analytic: -0.032758, relative error: 3.475393e-07\n",
      "numerical: -0.214172 analytic: -0.214172, relative error: 3.750478e-08\n",
      "numerical: -0.198939 analytic: -0.198939, relative error: 2.499089e-07\n",
      "numerical: -3.125151 analytic: -3.125151, relative error: 4.148582e-09\n",
      "numerical: -0.180826 analytic: -0.180825, relative error: 4.636896e-07\n",
      "numerical: 1.970408 analytic: 1.970408, relative error: 1.179361e-08\n"
     ]
    }
   ],
   "source": [
    "# Complete the implementation of softmax_loss_naive and implement a (naive)\n",
    "# version of the gradient that uses nested loops.\n",
    "loss, grad = softmax_loss_naive(W, X_dev, y_dev, 0.0)\n",
    "\n",
    "# As we did for the SVM, use numeric gradient checking as a debugging tool.\n",
    "# The numeric gradient should be close to the analytic gradient.\n",
    "from cs231n.gradient_check import grad_check_sparse\n",
    "f = lambda w: softmax_loss_naive(w, X_dev, y_dev, 0.0)[0]\n",
    "grad_numerical = grad_check_sparse(f, W, grad, 10)\n",
    "\n",
    "# similar to SVM case, do another gradient check with regularization\n",
    "loss, grad = softmax_loss_naive(W, X_dev, y_dev, 5e1)\n",
    "f = lambda w: softmax_loss_naive(w, X_dev, y_dev, 5e1)[0]\n",
    "grad_numerical = grad_check_sparse(f, W, grad, 10)"
   ]
  },
  {
   "cell_type": "code",
   "execution_count": 38,
   "metadata": {},
   "outputs": [
    {
     "name": "stdout",
     "output_type": "stream",
     "text": [
      "naive loss: 2.394573e+00 computed in 0.099315s\n",
      "vectorized loss: 2.394573e+00 computed in 0.004083s\n",
      "Loss difference: 0.000000\n",
      "Gradient difference: 0.000000\n"
     ]
    }
   ],
   "source": [
    "# Now that we have a naive implementation of the softmax loss function and its gradient,\n",
    "# implement a vectorized version in softmax_loss_vectorized.\n",
    "# The two versions should compute the same results, but the vectorized version should be\n",
    "# much faster.\n",
    "tic = time.time()\n",
    "loss_naive, grad_naive = softmax_loss_naive(W, X_dev, y_dev, 0.000005)\n",
    "toc = time.time()\n",
    "print('naive loss: %e computed in %fs' % (loss_naive, toc - tic))\n",
    "\n",
    "from cs231n.classifiers.softmax import softmax_loss_vectorized\n",
    "tic = time.time()\n",
    "loss_vectorized, grad_vectorized = softmax_loss_vectorized(W, X_dev, y_dev, 0.000005)\n",
    "toc = time.time()\n",
    "print('vectorized loss: %e computed in %fs' % (loss_vectorized, toc - tic))\n",
    "\n",
    "# As we did for the SVM, we use the Frobenius norm to compare the two versions\n",
    "# of the gradient.\n",
    "grad_difference = np.linalg.norm(grad_naive - grad_vectorized, ord='fro')\n",
    "print('Loss difference: %f' % np.abs(loss_naive - loss_vectorized))\n",
    "print('Gradient difference: %f' % grad_difference)"
   ]
  },
  {
   "cell_type": "code",
   "execution_count": 39,
   "metadata": {
    "tags": [
     "code"
    ]
   },
   "outputs": [
    {
     "name": "stdout",
     "output_type": "stream",
     "text": [
      "iteration 0 / 1500: loss 389.232338\n",
      "iteration 100 / 1500: loss 235.751217\n",
      "iteration 200 / 1500: loss 143.129044\n",
      "iteration 300 / 1500: loss 87.265515\n",
      "iteration 400 / 1500: loss 53.551800\n",
      "iteration 500 / 1500: loss 33.155431\n",
      "iteration 600 / 1500: loss 20.919291\n",
      "iteration 700 / 1500: loss 13.441879\n",
      "iteration 800 / 1500: loss 8.934838\n",
      "iteration 900 / 1500: loss 6.160631\n",
      "iteration 1000 / 1500: loss 4.560386\n",
      "iteration 1100 / 1500: loss 3.605626\n",
      "iteration 1200 / 1500: loss 2.916685\n",
      "iteration 1300 / 1500: loss 2.621166\n",
      "iteration 1400 / 1500: loss 2.315843\n",
      "iteration 0 / 1500: loss 782.220931\n",
      "iteration 100 / 1500: loss 287.127302\n",
      "iteration 200 / 1500: loss 106.342956\n",
      "iteration 300 / 1500: loss 40.222607\n",
      "iteration 400 / 1500: loss 16.096568\n",
      "iteration 500 / 1500: loss 7.196472\n",
      "iteration 600 / 1500: loss 3.927682\n",
      "iteration 700 / 1500: loss 2.749175\n",
      "iteration 800 / 1500: loss 2.381192\n",
      "iteration 900 / 1500: loss 2.148687\n",
      "iteration 1000 / 1500: loss 2.061760\n",
      "iteration 1100 / 1500: loss 2.112879\n",
      "iteration 1200 / 1500: loss 2.097562\n",
      "iteration 1300 / 1500: loss 2.049313\n",
      "iteration 1400 / 1500: loss 2.054180\n",
      "iteration 0 / 1500: loss 389.571407\n",
      "iteration 100 / 1500: loss 33.063167\n",
      "iteration 200 / 1500: loss 4.500292\n",
      "iteration 300 / 1500: loss 2.184152\n",
      "iteration 400 / 1500: loss 2.035592\n",
      "iteration 500 / 1500: loss 2.071740\n",
      "iteration 600 / 1500: loss 2.001749\n",
      "iteration 700 / 1500: loss 1.980424\n",
      "iteration 800 / 1500: loss 2.124732\n",
      "iteration 900 / 1500: loss 2.036897\n",
      "iteration 1000 / 1500: loss 1.993217\n",
      "iteration 1100 / 1500: loss 1.907002\n",
      "iteration 1200 / 1500: loss 1.989541\n",
      "iteration 1300 / 1500: loss 2.052096\n",
      "iteration 1400 / 1500: loss 2.096431\n",
      "iteration 0 / 1500: loss 788.418776\n",
      "iteration 100 / 1500: loss 7.002250\n",
      "iteration 200 / 1500: loss 2.046505\n",
      "iteration 300 / 1500: loss 2.050973\n",
      "iteration 400 / 1500: loss 2.095091\n",
      "iteration 500 / 1500: loss 2.088305\n",
      "iteration 600 / 1500: loss 2.110277\n",
      "iteration 700 / 1500: loss 2.079362\n",
      "iteration 800 / 1500: loss 2.050541\n",
      "iteration 900 / 1500: loss 2.118866\n",
      "iteration 1000 / 1500: loss 2.092066\n",
      "iteration 1100 / 1500: loss 2.123437\n",
      "iteration 1200 / 1500: loss 2.153129\n",
      "iteration 1300 / 1500: loss 2.100805\n",
      "iteration 1400 / 1500: loss 2.109602\n",
      "lr 1.000000e-07 reg 2.500000e+04 train accuracy: 0.349755 val accuracy: 0.359000\n",
      "lr 1.000000e-07 reg 5.000000e+04 train accuracy: 0.328837 val accuracy: 0.339000\n",
      "lr 5.000000e-07 reg 2.500000e+04 train accuracy: 0.341327 val accuracy: 0.349000\n",
      "lr 5.000000e-07 reg 5.000000e+04 train accuracy: 0.324143 val accuracy: 0.342000\n",
      "best validation accuracy achieved during cross-validation: 0.359000\n"
     ]
    }
   ],
   "source": [
    "# Use the validation set to tune hyperparameters (regularization strength and\n",
    "# learning rate). You should experiment with different ranges for the learning\n",
    "# rates and regularization strengths; if you are careful you should be able to\n",
    "# get a classification accuracy of over 0.35 on the validation set.\n",
    "from cs231n.classifiers import Softmax\n",
    "results = {}\n",
    "best_val = -1\n",
    "best_softmax = None\n",
    "learning_rates = [1e-7, 5e-7]\n",
    "regularization_strengths = [2.5e4, 5e4]\n",
    "\n",
    "################################################################################\n",
    "# TODO:                                                                        #\n",
    "# Use the validation set to set the learning rate and regularization strength. #\n",
    "# This should be identical to the validation that you did for the SVM; save    #\n",
    "# the best trained softmax classifer in best_softmax.                          #\n",
    "################################################################################\n",
    "# *****START OF YOUR CODE (DO NOT DELETE/MODIFY THIS LINE)*****\n",
    "\n",
    "for lr in learning_rates:\n",
    "    for rs in regularization_strengths:\n",
    "        softmax = Softmax()\n",
    "        softmax.train(X_train, y_train, learning_rate = lr, reg=rs, num_iters = 1500,\n",
    "                     verbose = True)\n",
    "        \n",
    "        y_pred_train = softmax.predict(X_train)\n",
    "        acc_train = np.mean(y_pred_train == y_train)\n",
    "        \n",
    "        y_pred_val = softmax.predict(X_val)\n",
    "        acc_val = np.mean(y_pred_val == y_val)\n",
    "        results[(lr, rs)] = (acc_train, acc_val)\n",
    "        \n",
    "        if acc_val > best_val:\n",
    "            best_val = acc_val\n",
    "            best_softmax = softmax\n",
    "\n",
    "# *****END OF YOUR CODE (DO NOT DELETE/MODIFY THIS LINE)*****\n",
    "    \n",
    "# Print out results.\n",
    "for lr, reg in sorted(results):\n",
    "    train_accuracy, val_accuracy = results[(lr, reg)]\n",
    "    print('lr %e reg %e train accuracy: %f val accuracy: %f' % (\n",
    "                lr, reg, train_accuracy, val_accuracy))\n",
    "    \n",
    "print('best validation accuracy achieved during cross-validation: %f' % best_val)"
   ]
  },
  {
   "cell_type": "code",
   "execution_count": 40,
   "metadata": {},
   "outputs": [
    {
     "name": "stdout",
     "output_type": "stream",
     "text": [
      "softmax on raw pixels final test set accuracy: 0.355000\n"
     ]
    }
   ],
   "source": [
    "# evaluate on test set\n",
    "# Evaluate the best softmax on test set\n",
    "y_test_pred = best_softmax.predict(X_test)\n",
    "test_accuracy = np.mean(y_test == y_test_pred)\n",
    "print('softmax on raw pixels final test set accuracy: %f' % (test_accuracy, ))"
   ]
  },
  {
   "cell_type": "markdown",
   "metadata": {
    "tags": [
     "pdf-inline"
    ]
   },
   "source": [
    "**Inline Question 2** - *True or False*\n",
    "\n",
    "Suppose the overall training loss is defined as the sum of the per-datapoint loss over all training examples. It is possible to add a new datapoint to a training set that would leave the SVM loss unchanged, but this is not the case with the Softmax classifier loss.\n",
    "\n",
    "$\\color{blue}{\\textit Your Answer:}$True\n",
    "\n",
    "\n",
    "$\\color{blue}{\\textit Your Explanation:}$因为 根据$svm$的公式有可能加的数据点对$svm$来讲比较好辨识，所以取$max$之后都是0，但是对于$softmax$而言，总会得到一个概率分布，然后算出交叉熵，换言之，$softmax$的$loss$总会加上一个量，即使是一个很小的量。\n",
    "\n"
   ]
  },
  {
   "cell_type": "code",
   "execution_count": 42,
   "metadata": {},
   "outputs": [
    {
     "data": {
      "image/png": "[encoded data removed]",
      "text/plain": [
       "<Figure size 720x576 with 10 Axes>"
      ]
     },
     "metadata": {
      "needs_background": "light"
     },
     "output_type": "display_data"
    }
   ],
   "source": [
    "# Visualize the learned weights for each class\n",
    "w = best_softmax.W[:-1,:] # strip out the bias\n",
    "w = w.reshape(32, 32, 3, 10)\n",
    "\n",
    "w_min, w_max = np.min(w), np.max(w)\n",
    "\n",
    "classes = ['plane', 'car', 'bird', 'cat', 'deer', 'dog', 'frog', 'horse', 'ship', 'truck']\n",
    "for i in range(10):\n",
    "    plt.subplot(2, 5, i + 1)\n",
    "    \n",
    "    # Rescale the weights to be between 0 and 255\n",
    "    wimg = 255.0 * (w[:, :, :, i].squeeze() - w_min) / (w_max - w_min)\n",
    "    plt.imshow(wimg.astype('uint8'))\n",
    "    plt.axis('off')\n",
    "    plt.title(classes[i])"
   ]
  },
  {
   "cell_type": "code",
   "execution_count": null,
   "metadata": {},
   "outputs": [],
   "source": []
  }
 ],
 "metadata": {
  "kernelspec": {
   "display_name": "Python 3",
   "language": "python",
   "name": "python3"
  },
  "language_info": {
   "codemirror_mode": {
    "name": "ipython",
    "version": 3
   },
   "file_extension": ".py",
   "mimetype": "text/x-python",
   "name": "python",
   "nbconvert_exporter": "python",
   "pygments_lexer": "ipython3",
   "version": "3.7.4"
  }
 },
 "nbformat": 4,
 "nbformat_minor": 1
}
